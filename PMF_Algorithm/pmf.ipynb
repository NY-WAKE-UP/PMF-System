{
 "cells": [
  {
   "cell_type": "code",
   "metadata": {
    "ExecuteTime": {
     "end_time": "2024-05-28T06:52:54.300947Z",
     "start_time": "2024-05-28T06:52:54.288589Z"
    }
   },
   "source": [
    "import numpy as np\n",
    "import math\n",
    "from sklearn.model_selection import train_test_split\n",
    "from data import *\n",
    "from evaluation import *\n",
    "%matplotlib inline"
   ],
   "execution_count": 27,
   "outputs": []
  },
  {
   "cell_type": "markdown",
   "metadata": {},
   "source": [
    "### 加载数据集"
   ]
  },
  {
   "cell_type": "code",
   "metadata": {
    "ExecuteTime": {
     "end_time": "2024-05-28T06:39:08.664534Z",
     "start_time": "2024-05-28T06:39:08.443680Z"
    }
   },
   "source": [
    "# data_dir = 'datasets/ml-1m/ratings.dat' \n",
    "data_dir='datasets/ml-100k/u.data'\n",
    "N, M, data_list, _ = load_data(file_dir=data_dir)\n",
    "print(' data length: %d \\n user number: %d \\n item number: %d' %(len(data_list),N,M))"
   ],
   "execution_count": 16,
   "outputs": []
  },
  {
   "cell_type": "markdown",
   "metadata": {},
   "source": [
    "### 分割数据集"
   ]
  },
  {
   "cell_type": "code",
   "metadata": {
    "ExecuteTime": {
     "end_time": "2024-05-28T06:39:08.680712Z",
     "start_time": "2024-05-28T06:39:08.665541Z"
    }
   },
   "source": [
    "train_list, test_list = train_test_split(data_list,test_size=0.2)\n",
    "print ('train length: %d \\n test length: %d' %(len(train_list),len(test_list)))"
   ],
   "execution_count": 17,
   "outputs": []
  },
  {
   "cell_type": "markdown",
   "metadata": {},
   "source": [
    "### 将 list 转换成 矩阵"
   ]
  },
  {
   "cell_type": "code",
   "metadata": {
    "ExecuteTime": {
     "end_time": "2024-05-28T06:39:08.731321Z",
     "start_time": "2024-05-28T06:39:08.681288Z"
    }
   },
   "source": [
    "train_mat = sequence2mat(sequence = train_list, N = N, M = M)\n",
    "test_mat = sequence2mat(sequence = test_list, N = N, M = M)"
   ],
   "execution_count": 18,
   "outputs": []
  },
  {
   "cell_type": "markdown",
   "metadata": {},
   "source": [
    "### 参数设置"
   ]
  },
  {
   "cell_type": "code",
   "metadata": {
    "ExecuteTime": {
     "end_time": "2024-05-28T06:39:08.734512Z",
     "start_time": "2024-05-28T06:39:08.732744Z"
    }
   },
   "source": [
    "K = 20\n",
    "# lambda\n",
    "lamda_regularizer = 0.1\n",
    "# 学习率\n",
    "learning_rate = 0.005\n",
    "max_iteration = 100"
   ],
   "execution_count": 19,
   "outputs": []
  },
  {
   "cell_type": "markdown",
   "metadata": {},
   "source": [
    "### 概率矩阵分解 （PMF）"
   ]
  },
  {
   "cell_type": "code",
   "metadata": {
    "ExecuteTime": {
     "end_time": "2024-05-28T06:40:16.339890Z",
     "start_time": "2024-05-28T06:39:08.735270Z"
    }
   },
   "source": [
    "from pmf import *\n",
    "import time\n",
    "model = pmf(train_list=train_list, \n",
    "            test_list=test_list, \n",
    "            N=N, \n",
    "            M=M,\n",
    "            K=K,\n",
    "            P=None,\n",
    "            Q=None,\n",
    "            learning_rate=learning_rate, \n",
    "            lamda_regularizer=lamda_regularizer, \n",
    "            max_iteration=max_iteration)\n",
    "P, Q, records_array ,during= model.train()\n",
    "print('MAE:%.4f;RMSE:%.4f;Recall:%.4f;Precision:%.4f;F-value:%.4f'\n",
    "      %(records_array[:,1][-1],records_array[:,2][-1],records_array[:,3][-1],records_array[:,4][-1],((2*records_array[:,3][-1]*records_array[:,4][-1])/(records_array[:,3][-1]+records_array[:,4][-1]))))\n",
    "print(during)\n",
    "\n"
   ],
   "execution_count": 20,
   "outputs": []
  },
  {
   "cell_type": "code",
   "metadata": {
    "ExecuteTime": {
     "end_time": "2024-05-28T06:40:16.490164Z",
     "start_time": "2024-05-28T06:40:16.341688Z"
    }
   },
   "source": [
    "import numpy as np\n",
    "from evaluation import *\n",
    "k5_records=np.array(records_array)\n",
    "np.savetxt('lambda02.txt',k5_records)\n",
    "\n",
    "# print(records_array)\n",
    "import matplotlib as plt\n",
    "plt.rcParams['font.sans-serif'] = ['Songti SC']\n",
    "plt.rcParams['font.size'] = 10.5\n",
    "\n",
    "# records_array=np.loadtxt('lambda01.txt')\n",
    "\n",
    "figure(values_list=records_array[:,0],name='loss',color='r',)\n",
    "figure(values_list=records_array[:,1],name='MAE',color='r')\n",
    "figure(values_list=records_array[:,2],name=\"rmse\",color='r')"
   ],
   "execution_count": 21,
   "outputs": []
  },
  {
   "cell_type": "code",
   "metadata": {
    "ExecuteTime": {
     "end_time": "2024-05-28T06:40:16.550577Z",
     "start_time": "2024-05-28T06:40:16.491015Z"
    }
   },
   "source": [
    "import matplotlib.pyplot as plt\n",
    "\n",
    "# 设置宋体字体\n",
    "plt.rcParams['font.sans-serif'] = ['Songti SC']\n",
    "plt.rcParams['font.size'] = 10.5\n",
    "\n",
    "# 数据\n",
    "x = [1, 2, 3, 4, 5]\n",
    "y = [2, 3, 5, 7, 6]\n",
    "\n",
    "# 绘图\n",
    "plt.plot(x, y)\n",
    "plt.xlabel('Iterations', fontdict={'family': 'sans-serif'})\n",
    "plt.ylabel('Iterations', fontdict={'family': 'sans-serif'})\n",
    "plt.title('loss curve', fontdict={'family': 'sans-serif'})\n",
    "plt.show()\n"
   ],
   "execution_count": 22,
   "outputs": []
  },
  {
   "cell_type": "code",
   "metadata": {
    "ExecuteTime": {
     "end_time": "2024-05-28T06:40:16.574160Z",
     "start_time": "2024-05-28T06:40:16.551430Z"
    }
   },
   "source": [
    "import pickle\n",
    "\n",
    "# 保存模型\n",
    "with open('pmf_model-100k.pkl', 'wb') as f:\n",
    "    pickle.dump(model, f)"
   ],
   "execution_count": 23,
   "outputs": []
  },
  {
   "cell_type": "code",
   "metadata": {
    "ExecuteTime": {
     "end_time": "2024-05-28T06:40:16.576080Z",
     "start_time": "2024-05-28T06:40:16.574768Z"
    }
   },
   "source": [],
   "execution_count": 23,
   "outputs": []
  },
  {
   "cell_type": "code",
   "metadata": {
    "ExecuteTime": {
     "end_time": "2024-05-28T06:40:16.736954Z",
     "start_time": "2024-05-28T06:40:16.577998Z"
    }
   },
   "source": [
    "import matplotlib.pyplot as plt\n",
    "from mpl_toolkits.mplot3d import Axes3D\n",
    "import numpy as np\n",
    "\n",
    "# 创建图形对象和3D子图\n",
    "fig = plt.figure(figsize=(10, 10),dpi=200)\n",
    "iterations = np.arange(1, 101)\n",
    "iterations001 = np.arange(1, 25)\n",
    "iterations005 = np.arange(1, 55)\n",
    "\n",
    "ax = fig.add_subplot(111, projection='3d')\n",
    "\n",
    "# 读取数据\n",
    "rmse_k10 = np.loadtxt('k10_records.txt')\n",
    "rmse_k15 = np.loadtxt('k15_records.txt')\n",
    "rmse_k20 = np.loadtxt('k20.txt')\n",
    "rmse_k25 = np.loadtxt('k25.txt')\n",
    "\n",
    "#绘制曲线并手动添加图例\n",
    "ax.plot(iterations, rmse_k10[:,2], zs=0.001, zdir='y', color='blue', linestyle='-', marker='o')\n",
    "# ax.plot(iterations005, rmse_k15[:,0], zs=15, zdir='y', color='green', linestyle='-', marker='s')\n",
    "ax.plot(iterations, rmse_k20[:,2], zs=0.005, zdir='y', color='red', linestyle='-', marker='^')\n",
    "ax.plot(iterations, rmse_k25[:,2], zs=0.01, zdir='y', color='cyan', linestyle='-', marker='o')\n",
    "\n",
    "# #绘制曲线并手动添加图例\n",
    "# ax.plot(iterations, rmse_k10[:,0], zs=10, zdir='y', color='blue', linestyle='-', marker='o')\n",
    "# ax.plot(iterations, rmse_k15[:,0], zs=15, zdir='y', color='green', linestyle='-', marker='s')\n",
    "# ax.plot(iterations, rmse_k20[:,0], zs=20, zdir='y', color='red', linestyle='-', marker='^')\n",
    "# ax.plot(iterations, rmse_k25[:,0], zs=25, zdir='y', color='cyan', linestyle='-', marker='o')\n",
    "\n",
    "\n",
    "# 手动创建图例\n",
    "handles = [plt.Line2D([0], [0], color='blue', linestyle='-', marker='o', label='学习率=0.001'),\n",
    "        #    plt.Line2D([0], [0], color='green', linestyle='-', marker='s', label='学习率=0.05'),\n",
    "           plt.Line2D([0], [0], color='red', linestyle='-', marker='^', label='学习率=0.005'),\n",
    "           plt.Line2D([0], [0], color='cyan', linestyle='-', marker='o', label='学习率=0.01')]\n",
    "\n",
    "# # 手动创建图例\n",
    "# handles = [plt.Line2D([0], [0], color='blue', linestyle='-', marker='o', label='K=10'),\n",
    "#            plt.Line2D([0], [0], color='green', linestyle='-', marker='s', label='K=15'),\n",
    "#            plt.Line2D([0], [0], color='red', linestyle='-', marker='^', label='K=20'),\n",
    "#            plt.Line2D([0], [0], color='cyan', linestyle='-', marker='o', label='K=25')]\n",
    "\n",
    "# 设置宋体字体\n",
    "plt.rcParams['font.sans-serif'] = ['Songti SC']\n",
    "plt.rcParams['font.size'] = 15\n",
    "\n",
    "# 设置轴标签\n",
    "ax.set_xlabel('Iterations', fontdict={'family': 'sans-serif'},labelpad=10,size=15)\n",
    "ax.set_ylabel(' 学习率取值', fontdict={'family': 'sans-serif'},labelpad=10,size=15)\n",
    "ax.set_zlabel('RMSE', fontdict={'family': 'sans-serif'},labelpad=10,size=15)\n",
    "\n",
    "# 添加手动创建的图例\n",
    "ax.legend(handles=handles)\n",
    "\n",
    "# 调整视角\n",
    "ax.view_init(elev=30, azim=68)\n",
    "\n",
    "# 显示图表\n",
    "plt.show()\n"
   ],
   "execution_count": 24,
   "outputs": []
  },
  {
   "cell_type": "code",
   "metadata": {
    "ExecuteTime": {
     "end_time": "2024-05-28T06:40:16.868368Z",
     "start_time": "2024-05-28T06:40:16.737725Z"
    }
   },
   "source": [
    "import matplotlib.pyplot as plt\n",
    "from mpl_toolkits.mplot3d import Axes3D\n",
    "import numpy as np\n",
    "\n",
    "# 创建图形对象和 3D 子图\n",
    "fig = plt.figure(figsize=(20, 10))\n",
    "ax = fig.add_subplot(111, projection='3d')\n",
    "\n",
    "# 读取数据\n",
    "iterations = np.arange(1, 101)\n",
    "rmse_k10 = np.loadtxt('k10_records.txt')\n",
    "rmse_k15 = np.loadtxt('k15_records.txt')\n",
    "rmse_k20 = np.loadtxt('k20.txt')\n",
    "rmse_k25 = np.loadtxt('k25.txt')\n",
    "\n",
    "# 创建匹配的坐标网格\n",
    "X, Y = np.meshgrid(iterations, [10, 15, 20, 25])\n",
    "\n",
    "# 绘制曲线的散点图并手动添加图例\n",
    "ax.scatter(X, Y, rmse_k10, color='blue', label='K=10', marker='o')\n",
    "ax.scatter(X, Y, rmse_k15, color='green', label='K=15', marker='s')\n",
    "ax.scatter(X, Y, rmse_k20, color='red', label='K=20', marker='^')\n",
    "ax.scatter(X, Y, rmse_k25, color='cyan', label='K=25', marker='o')\n",
    "\n",
    "# 设置轴标签\n",
    "ax.set_xlabel('Iterations')\n",
    "ax.set_ylabel('K value')\n",
    "ax.set_zlabel('RMSE')\n",
    "\n",
    "# 设置图例\n",
    "ax.legend()\n",
    "\n",
    "# 调整视角\n",
    "ax.view_init(elev=30, azim=50)\n",
    "\n",
    "# 显示图表\n",
    "plt.show()\n"
   ],
   "execution_count": 25,
   "outputs": []
  },
  {
   "cell_type": "code",
   "metadata": {},
   "source": [
    "import matplotlib.pyplot as plt\n",
    "\n",
    "# 创建数据\n",
    "x = [1, 2, 3, 4, 5]\n",
    "y = [2, 4, 6, 8, 10]\n",
    "z = [1, 3, 5, 7, 9]\n",
    "\n",
    "# 创建图形对象和坐标轴\n",
    "fig = plt.figure()\n",
    "ax = fig.add_subplot(111, projection='3d')\n",
    "\n",
    "# 绘制曲线并设置图例标签\n",
    "ax.plot(x, y, z, label='曲线1')\n",
    "ax.plot(y, x, z, label='曲线2')\n",
    "\n",
    "# 添加图例\n",
    "ax.legend()\n",
    "\n",
    "# 显示图形\n",
    "plt.show()"
   ],
   "execution_count": null,
   "outputs": []
  },
  {
   "cell_type": "code",
   "metadata": {
    "ExecuteTime": {
     "end_time": "2024-05-28T06:42:19.628265Z",
     "start_time": "2024-05-28T06:42:17.243062Z"
    }
   },
   "source": [
    "import pickle\n",
    "# 加载模型\n",
    "with open('pmf_model.pkl', 'rb') as f:\n",
    "    loaded_model = pickle.load(f)\n",
    "# pred_mat = loaded_model.prediction(loaded_model.P, loaded_model.Q)\n",
    "# recommendations = loaded_model.recommendation(pred_mat, num_recommendations=5)\n",
    "# print(recommendations)\n",
    "\n",
    "print(loaded_model.P)\n",
    "r_pred = loaded_model.prediction(loaded_model.P, loaded_model.Q)  # 调用 prediction 方法获取预测评分矩阵\n",
    "recommendations = loaded_model.recommendation(r_pred, num_recommendations=10)\n",
    "print(recommendations)\n"
   ],
   "execution_count": 26,
   "outputs": []
  },
  {
   "metadata": {},
   "cell_type": "code",
   "source": "",
   "execution_count": null,
   "outputs": []
  }
 ],
 "metadata": {
  "kernelspec": {
   "display_name": "BiShe",
   "language": "python",
   "name": "python3"
  },
  "language_info": {
   "codemirror_mode": {
    "name": "ipython",
    "version": 3
   },
   "file_extension": ".py",
   "mimetype": "text/x-python",
   "name": "python",
   "nbconvert_exporter": "python",
   "pygments_lexer": "ipython3",
   "version": "3.12.2"
  }
 },
 "nbformat": 4,
 "nbformat_minor": 2
}
