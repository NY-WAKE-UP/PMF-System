{
 "cells": [
  {
   "metadata": {
    "ExecuteTime": {
     "end_time": "2024-05-27T07:53:49.805644Z",
     "start_time": "2024-05-27T07:53:49.275489Z"
    }
   },
   "cell_type": "code",
   "source": [
    "import pandas as pd\n",
    "\n",
    "df = pd.read_csv('movies_content.csv', sep=',',header=None)\n",
    "\n",
    "df[1] = df[1].str.replace(r'\\s*\\(\\d{4}\\)\\s*.*$', '', regex=True)\n",
    "\n",
    "df.to_csv('movies_processed.csv', index=False)\n",
    "\n",
    "df2=pd.read_csv('movies_processed.csv')\n",
    "print(df2)"
   ],
   "id": "ea71ba1b6aa01670",
   "execution_count": 22,
   "outputs": []
  },
  {
   "metadata": {},
   "cell_type": "code",
   "execution_count": null,
   "source": "",
   "id": "a30548feda0576b1",
   "outputs": []
  }
 ],
 "metadata": {
  "kernelspec": {
   "display_name": "Python 3",
   "language": "python",
   "name": "python3"
  },
  "language_info": {
   "codemirror_mode": {
    "name": "ipython",
    "version": 2
   },
   "file_extension": ".py",
   "mimetype": "text/x-python",
   "name": "python",
   "nbconvert_exporter": "python",
   "pygments_lexer": "ipython2",
   "version": "2.7.6"
  }
 },
 "nbformat": 4,
 "nbformat_minor": 5
}
